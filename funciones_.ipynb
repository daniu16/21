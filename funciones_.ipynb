{
  "nbformat": 4,
  "nbformat_minor": 0,
  "metadata": {
    "colab": {
      "provenance": [],
      "authorship_tag": "ABX9TyO/zikrP5dKf03jQVYB2BXp",
      "include_colab_link": true
    },
    "kernelspec": {
      "name": "python3",
      "display_name": "Python 3"
    },
    "language_info": {
      "name": "python"
    }
  },
  "cells": [
    {
      "cell_type": "markdown",
      "metadata": {
        "id": "view-in-github",
        "colab_type": "text"
      },
      "source": [
        "<a href=\"https://colab.research.google.com/github/daniu16/21/blob/main/funciones_.ipynb\" target=\"_parent\"><img src=\"https://colab.research.google.com/assets/colab-badge.svg\" alt=\"Open In Colab\"/></a>"
      ]
    },
    {
      "cell_type": "code",
      "source": [
        "# importa todos los comando \n",
        "from matplotlib.pyplot import plot, show, xlim, ylim, xticks, legend, figure, subplot \n",
        "import numpy as np\n",
        "import matplotlib.pyplot as plt"
      ],
      "metadata": {
        "id": "ESYQDYy0Pgsa"
      },
      "execution_count": null,
      "outputs": []
    },
    {
      "cell_type": "code",
      "execution_count": 15,
      "metadata": {
        "id": "_JX3EfNBKUVM",
        "colab": {
          "base_uri": "https://localhost:8080/",
          "height": 460
        },
        "outputId": "fbcfa203-f564-45b4-8838-53173fc836e9"
      },
      "outputs": [
        {
          "name": "stdout",
          "output_type": "stream",
          "text": [
            "------------------------------\n",
            "---se graficara una funcion---\n",
            "------------------------------\n",
            "------------------------------\n",
            "--------1=funcion linel-------\n",
            "-----2=funcion cuadratica-----\n",
            "-------3=funcion cubica-------\n",
            "-----4=funcion exponencial----\n",
            "-----5=funcion logaritmica----\n",
            "---6=funcion trigonometrica --\n",
            "------------------------------\n",
            "escoja la funcion que desea graficar: 3\n",
            "digite el valor de la variable: 5\n"
          ]
        },
        {
          "output_type": "error",
          "ename": "NameError",
          "evalue": "ignored",
          "traceback": [
            "\u001b[0;31m---------------------------------------------------------------------------\u001b[0m",
            "\u001b[0;31mNameError\u001b[0m                                 Traceback (most recent call last)",
            "\u001b[0;32m<ipython-input-15-fdcccf7df82e>\u001b[0m in \u001b[0;36m<module>\u001b[0;34m\u001b[0m\n\u001b[1;32m     64\u001b[0m \u001b[0;34m\u001b[0m\u001b[0m\n\u001b[1;32m     65\u001b[0m   \u001b[0mm\u001b[0m\u001b[0;34m=\u001b[0m\u001b[0mint\u001b[0m\u001b[0;34m(\u001b[0m\u001b[0minput\u001b[0m\u001b[0;34m(\u001b[0m\u001b[0;34m\"digite el valor de la variable: \"\u001b[0m\u001b[0;34m)\u001b[0m\u001b[0;34m)\u001b[0m\u001b[0;34m\u001b[0m\u001b[0;34m\u001b[0m\u001b[0m\n\u001b[0;32m---> 66\u001b[0;31m   \u001b[0mx\u001b[0m\u001b[0;34m=\u001b[0m\u001b[0mnp\u001b[0m\u001b[0;34m.\u001b[0m\u001b[0mlinspace\u001b[0m\u001b[0;34m(\u001b[0m\u001b[0;34m-\u001b[0m\u001b[0;36m50\u001b[0m\u001b[0;34m,\u001b[0m\u001b[0;36m50\u001b[0m\u001b[0;34m,\u001b[0m \u001b[0;36m150\u001b[0m\u001b[0;34m)\u001b[0m\u001b[0;34m\u001b[0m\u001b[0;34m\u001b[0m\u001b[0m\n\u001b[0m\u001b[1;32m     67\u001b[0m   \u001b[0my\u001b[0m\u001b[0;34m=\u001b[0m\u001b[0mm\u001b[0m\u001b[0;34m^\u001b[0m\u001b[0;36m2\u001b[0m\u001b[0;34m\u001b[0m\u001b[0;34m\u001b[0m\u001b[0m\n\u001b[1;32m     68\u001b[0m   \u001b[0mplot\u001b[0m\u001b[0;34m(\u001b[0m\u001b[0mx\u001b[0m\u001b[0;34m,\u001b[0m\u001b[0my\u001b[0m\u001b[0;34m)\u001b[0m\u001b[0;34m\u001b[0m\u001b[0;34m\u001b[0m\u001b[0m\n",
            "\u001b[0;31mNameError\u001b[0m: name 'np' is not defined"
          ]
        }
      ],
      "source": [
        "from matplotlib import numpy\n",
        "#crear un diseñadro de funciones \n",
        "\n",
        "#input \n",
        "print(\"------------------------------\")\n",
        "print(\"---se graficara una funcion---\")\n",
        "print(\"------------------------------\")\n",
        "\n",
        "\n",
        "print(\"------------------------------\")\n",
        "print(\"--------1=funcion linel-------\")\n",
        "print(\"-----2=funcion cuadratica-----\")\n",
        "print(\"-------3=funcion cubica-------\")\n",
        "print(\"-----4=funcion exponencial----\")\n",
        "print(\"-----5=funcion logaritmica----\")\n",
        "print(\"---6=funcion trigonometrica --\")\n",
        "print(\"------------------------------\")\n",
        "\n",
        "\n",
        "n=int(input(\"escoja la funcion que desea graficar: \"))\n",
        "\n",
        "if n==1:\n",
        "  def funcion_lineal(m,b,x):\n",
        "    return m*x+b\n",
        "\n",
        "  print(\"fuincion lineal\")\n",
        "  print(\"----y=mx+b----\")\n",
        "  m=int(input(\"digite el valor de la pendiente m: \"))\n",
        "  b=int(input(\"digite el valor del corte en el eje y b: \"))\n",
        "  x = np.linspace(-10,10, 100)\n",
        "  y = funcion_lineal(m,b,x)\n",
        "\n",
        "  plt.plot(x,y, color= \"r\") \n",
        "  plt.xlabel(\"x\")\n",
        "  plt.ylabel(\"y\")\n",
        "  plt.title(\"funcion lineal: y=mx + b\")\n",
        "  plt.grid()\n",
        "  plt.axhline(y=0, color= \"b\")\n",
        "  plt.axvline(x=0, color= \"b\")\n",
        "  plt.show()\n",
        "\n",
        "elif n==2:\n",
        "  def funcion_cuadratica(m):\n",
        "    return ((m)^2)\n",
        "\n",
        "  m=int(input(\"digite el valor de la variable: \"))\n",
        "  x=np.linspace(-5,50, 100)\n",
        "  y=m^2\n",
        "  plot(x,y)\n",
        "  ylim(-2,2)\n",
        "\n",
        "  plt.plot(x,y, color= \"r\") \n",
        "  plt.xlabel(\"x\")\n",
        "  plt.ylabel(\"y\")\n",
        "  plt.title(\"funcion cuadratica: y=x^2\")\n",
        "  plt.grid()\n",
        "  plt.axhline(y=0, color= \"b\")\n",
        "  plt.axvline(x=0, color= \"b\")\n",
        "  show()\n",
        "\n",
        "elif n==3:\n",
        "  def funcion_cubica(m):\n",
        "    return ((m)^3)\n",
        "\n",
        "  m=int(input(\"digite el valor de la variable: \"))\n",
        "  x=np.linspace(-50,50, 150)\n",
        "  y=m^2\n",
        "  plot(x,y)\n",
        "  ylim(-2,2)\n",
        "  \n",
        "  plt.plot(x,y, color= \"r\") \n",
        "  plt.xlabel(\"x\")\n",
        "  plt.ylabel(\"y\")\n",
        "  plt.title(\"funcion cubica: y=x^2\")\n",
        "  plt.grid()\n",
        "  plt.axhline(y=0, color= \"b\")\n",
        "  plt.axvline(x=0, color= \"b\")\n",
        "  show()\n"
      ]
    }
  ]
}