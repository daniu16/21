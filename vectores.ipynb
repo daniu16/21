{
  "nbformat": 4,
  "nbformat_minor": 0,
  "metadata": {
    "colab": {
      "provenance": [],
      "authorship_tag": "ABX9TyPGoTYRAURW7MBPW4Izjb7I",
      "include_colab_link": true
    },
    "kernelspec": {
      "name": "python3",
      "display_name": "Python 3"
    },
    "language_info": {
      "name": "python"
    }
  },
  "cells": [
    {
      "cell_type": "markdown",
      "metadata": {
        "id": "view-in-github",
        "colab_type": "text"
      },
      "source": [
        "<a href=\"https://colab.research.google.com/github/daniu16/21/blob/main/vectores.ipynb\" target=\"_parent\"><img src=\"https://colab.research.google.com/assets/colab-badge.svg\" alt=\"Open In Colab\"/></a>"
      ]
    },
    {
      "cell_type": "code",
      "execution_count": null,
      "metadata": {
        "id": "synLFMLG0fIp"
      },
      "outputs": [],
      "source": [
        "# ejercicio_1: Vector con numeros aleatorios \n",
        "import random\n",
        "\n",
        "print(\"vector numeros aleatorios\")\n",
        "x=[None]*10\n",
        "for i in range(10):\n",
        "   x[i]=random.random()\n",
        "   print(x[i])"
      ]
    },
    {
      "cell_type": "code",
      "source": [
        "# ejercicio_2: "
      ],
      "metadata": {
        "id": "mXlh_Gvo2Yse"
      },
      "execution_count": null,
      "outputs": []
    }
  ]
}