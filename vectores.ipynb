{
  "nbformat": 4,
  "nbformat_minor": 0,
  "metadata": {
    "colab": {
      "provenance": [],
      "toc_visible": true,
      "authorship_tag": "ABX9TyOBktKhTfnVZChV58I54Fnz",
      "include_colab_link": true
    },
    "kernelspec": {
      "name": "python3",
      "display_name": "Python 3"
    },
    "language_info": {
      "name": "python"
    }
  },
  "cells": [
    {
      "cell_type": "markdown",
      "metadata": {
        "id": "view-in-github",
        "colab_type": "text"
      },
      "source": [
        "<a href=\"https://colab.research.google.com/github/daniu16/21/blob/main/vectores.ipynb\" target=\"_parent\"><img src=\"https://colab.research.google.com/assets/colab-badge.svg\" alt=\"Open In Colab\"/></a>"
      ]
    },
    {
      "cell_type": "code",
      "execution_count": null,
      "metadata": {
        "id": "synLFMLG0fIp"
      },
      "outputs": [],
      "source": [
        "# ejercicio_1: Vector con numeros aleatorios \n",
        "import random\n",
        "\n",
        "print(\"vector numeros aleatorios\")\n",
        "x=[None]*10\n",
        "for i in range(10):\n",
        "   x[i]=random.random()\n",
        "   print(x[i])"
      ]
    },
    {
      "cell_type": "code",
      "source": [
        "# ejercicio_2: suma de los elementos de un vector\n",
        "\n",
        "suma = 0\n",
        "vector =[None]*5\n",
        "for i in range(5):\n",
        "  a=int(input(\"dame un elemento: \"))\n",
        "  vector[i]= a\n",
        "  suma= suma+vector[i]\n",
        "print(\"la suma de los elementos del vector es: \", suma)\n"
      ],
      "metadata": {
        "id": "mXlh_Gvo2Yse"
      },
      "execution_count": null,
      "outputs": []
    },
    {
      "cell_type": "code",
      "source": [
        "# ejercisio_3: una empresa tiene 250 empleados, por cada uno de ellos tenemos un registro que trae grabado 2 datos, el nombre del emplado y su correstondiente salario mensual, hacer el diagrama que averigue e imprima, cuantos empleados ganan mas que el promeedio salarial de la empresa\n",
        "\n",
        "m=0\n",
        "suma = 0\n",
        "w=suma/3\n",
        "vector =[None]*3\n",
        "for i in range(3):\n",
        "  a=int(input(\"introdisca el valor de el sueldo: \"))\n",
        "  vector[i]= a\n",
        "  suma= suma+vector[i]\n",
        "for j in range(3):\n",
        "  m=m+1\n",
        "  k=index(m)>w\n",
        "  if k:\n",
        "    print(\"es el trabajador que mas sueldo tiene\")\n",
        "  print(\"no es el trabajador\")"
      ],
      "metadata": {
        "id": "PHxnpD_x3156"
      },
      "execution_count": null,
      "outputs": []
    },
    {
      "cell_type": "code",
      "source": [
        "# ejercisio_4 hacer el programa de python que lea el vector a de n elementos, y que averigue e imprima cual es el mayor y en que posicion se encuentra, y cual es el menor y en que posicion se encuentra \n",
        "\n",
        "n=int(input(\"dijite la cantidad de valores que desea procesar: \"))\n",
        "suma = 0\n",
        "vector =[None]*n\n",
        "for i in range(n):\n",
        "  a=int(input(\"dame un elemento: \"))\n",
        "  vector[i]= a\n",
        "  suma= suma+vector[i]\n",
        "\n"
      ],
      "metadata": {
        "id": "Hca4YwCW_Nma"
      },
      "execution_count": null,
      "outputs": []
    }
  ]
}